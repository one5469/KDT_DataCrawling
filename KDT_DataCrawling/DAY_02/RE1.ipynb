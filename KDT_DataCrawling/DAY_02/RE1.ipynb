{
 "cells": [
  {
   "cell_type": "code",
   "execution_count": 20,
   "id": "c59152d3-83b8-48ab-97c5-f213e4aa46f0",
   "metadata": {},
   "outputs": [],
   "source": [
    "from urllib.request import urlopen\n",
    "from bs4 import BeautifulSoup\n",
    "import re"
   ]
  },
  {
   "cell_type": "code",
   "execution_count": 3,
   "id": "c495d7c9-2d75-4c21-9d6d-b1dd8c07de08",
   "metadata": {},
   "outputs": [
    {
     "name": "stdout",
     "output_type": "stream",
     "text": [
      "None\n",
      "<re.Match object; span=(7, 12), match='apple'>\n"
     ]
    }
   ],
   "source": [
    "m = re.match('[a-z]+', 'Python')\n",
    "print(m)\n",
    "print(re.search('apple', 'I like apple!'))"
   ]
  },
  {
   "cell_type": "code",
   "execution_count": 4,
   "id": "b032b723-1dae-4af1-a111-439ac1ff8e9b",
   "metadata": {},
   "outputs": [
    {
     "name": "stdout",
     "output_type": "stream",
     "text": [
      "<re.Match object; span=(0, 6), match='python'>\n",
      "<re.Match object; span=(2, 6), match='like'>\n"
     ]
    }
   ],
   "source": [
    "p = re.compile('[a-z]+')\n",
    "m = p.match(\"python\")\n",
    "print(m)\n",
    "print(p.search('I like apple 123'))"
   ]
  },
  {
   "cell_type": "code",
   "execution_count": 5,
   "id": "84496826-f997-4377-951b-58e8df252b30",
   "metadata": {},
   "outputs": [
    {
     "name": "stdout",
     "output_type": "stream",
     "text": [
      "<re.Match object; span=(0, 6), match='python'>\n"
     ]
    }
   ],
   "source": [
    "m = re.match('[a-z]+', 'pythonN')\n",
    "print(m)"
   ]
  },
  {
   "cell_type": "code",
   "execution_count": 6,
   "id": "fd10335a-4252-4666-af08-6513c478a02b",
   "metadata": {},
   "outputs": [
    {
     "name": "stdout",
     "output_type": "stream",
     "text": [
      "None\n"
     ]
    }
   ],
   "source": [
    "m = re.match('[a-z]+', 'PYthon')\n",
    "print(m)"
   ]
  },
  {
   "cell_type": "code",
   "execution_count": 7,
   "id": "ede5ce50-8ec5-44eb-b15c-02f4601084d9",
   "metadata": {},
   "outputs": [
    {
     "name": "stdout",
     "output_type": "stream",
     "text": [
      "<re.Match object; span=(0, 5), match='regex'>\n",
      "None\n",
      "<re.Match object; span=(0, 10), match='regexpytho'>\n",
      "None\n",
      "<re.Match object; span=(0, 5), match='regex'>\n",
      "<re.Match object; span=(0, 11), match='regexpython'>\n"
     ]
    }
   ],
   "source": [
    "print(re.match('[a-z]+', 'regex python'))\n",
    "print(re.match('[a-z]+', ' regexpython'))\n",
    "\n",
    "print(re.match('[a-z]+', 'regexpythoN'))\n",
    "print(re.match('[a-z]+$', 'regexpythoN'))\n",
    "\n",
    "print(re.match('[a-z]+', 'regexPython'))\n",
    "print(re.match('[a-z]+$', 'regexpython'))"
   ]
  },
  {
   "cell_type": "code",
   "execution_count": 8,
   "id": "33634fd0-d0e7-4ba9-acce-36aca9fa0ad8",
   "metadata": {},
   "outputs": [
    {
     "name": "stdout",
     "output_type": "stream",
     "text": [
      "['like', 'is', 'too', 'short', 'egular', 'expression', 'test']\n"
     ]
    }
   ],
   "source": [
    "p = re.compile('[a-z]+')\n",
    "\n",
    "print(p.findall('like is too short! Regular expression test'))"
   ]
  },
  {
   "cell_type": "code",
   "execution_count": 9,
   "id": "a0ae8769-f363-49c2-896c-758cfd8f8dee",
   "metadata": {},
   "outputs": [
    {
     "name": "stdout",
     "output_type": "stream",
     "text": [
      "<re.Match object; span=(2, 6), match='like'>\n",
      "like\n",
      "['like', 'apple']\n"
     ]
    }
   ],
   "source": [
    "result = p.search('I like apple 123')\n",
    "print(result)\n",
    "print(result.group())\n",
    "\n",
    "result = p.findall('I like apple 123')\n",
    "print(result)"
   ]
  },
  {
   "cell_type": "code",
   "execution_count": 10,
   "id": "8bd04603-cf9b-40d3-8950-df125c194c50",
   "metadata": {},
   "outputs": [
    {
     "name": "stdout",
     "output_type": "stream",
     "text": [
      "<re.Match object; span=(0, 11), match='02-123-4567'>\n",
      "None\n",
      "None\n"
     ]
    }
   ],
   "source": [
    "tel_checker = re.compile('^(\\d{2,3})-(\\d{3,4})-(\\d{4})$')\n",
    "\n",
    "print(tel_checker.match('02-123-4567'))\n",
    "print(tel_checker.match('053-950-45678'))\n",
    "print(tel_checker.match('053950-4567'))"
   ]
  },
  {
   "cell_type": "code",
   "execution_count": 11,
   "id": "0557e83d-0155-4c14-83bd-7fa7d2036c07",
   "metadata": {},
   "outputs": [
    {
     "name": "stdout",
     "output_type": "stream",
     "text": [
      "('02', '123', '4567')\n",
      "group():  02-123-4567\n",
      "group(0):  02-123-4567\n",
      "group(1):  02\n",
      "group(2,3):  ('123', '4567')\n",
      "start():  0\n",
      "end():  11\n"
     ]
    }
   ],
   "source": [
    "tel_checker = re.compile('^(\\d{2,3})-(\\d{3,4})-(\\d{4})$')\n",
    "m = tel_checker.match('02-123-4567')\n",
    "\n",
    "print(m.groups())\n",
    "print('group(): ', m.group())\n",
    "print('group(0): ', m.group(0))\n",
    "print('group(1): ', m.group(1))\n",
    "print('group(2,3): ', m.group(2,3))\n",
    "print('start(): ', m.start())\n",
    "print('end(): ', m.end())"
   ]
  },
  {
   "cell_type": "code",
   "execution_count": 13,
   "id": "275c5370-bd9f-439f-bf5e-d91117bdb3c1",
   "metadata": {},
   "outputs": [
    {
     "name": "stdout",
     "output_type": "stream",
     "text": [
      "<re.Match object; span=(0, 12), match='010-123-4567'>\n",
      "<re.Match object; span=(0, 13), match='019-1234-5678'>\n",
      "None\n",
      "None\n"
     ]
    }
   ],
   "source": [
    "cell_phone = re.compile('^(01(?:0|1|[6-9]))-(\\d{3,4})-(\\d{4})$')\n",
    "\n",
    "print(cell_phone.match('010-123-4567'))\n",
    "print(cell_phone.match('019-1234-5678'))\n",
    "print(cell_phone.match('001-123-4567'))\n",
    "print(cell_phone.match('010-1234567'))"
   ]
  },
  {
   "cell_type": "code",
   "execution_count": 17,
   "id": "a215e302-c2b7-47d7-9a51-d533efd302ac",
   "metadata": {},
   "outputs": [
    {
     "name": "stdout",
     "output_type": "stream",
     "text": [
      "1000 \n",
      "<re.Match object; span=(0, 11), match='2023-01-26 '>\n",
      "<re.Match object; span=(9, 13), match='5678'>\n"
     ]
    }
   ],
   "source": [
    "lookahead1 = re.search('.+(?=won)', '1000 won')\n",
    "if(lookahead1 != None):\n",
    "    print(lookahead1.group())\n",
    "else:\n",
    "    print('None')\n",
    "lookahead2 = re.search('.+(?=am)', '2023-01-26 am 10:00:01')\n",
    "print(lookahead2)\n",
    "\n",
    "lookahead3 = re.search('\\d{4}(?!-)', '010-1234-5678')\n",
    "print(lookahead3)"
   ]
  },
  {
   "cell_type": "code",
   "execution_count": 19,
   "id": "3eb2b303-5741-4310-991f-cf7e0651fd49",
   "metadata": {},
   "outputs": [
    {
     "name": "stdout",
     "output_type": "stream",
     "text": [
      "<re.Match object; span=(13, 22), match=' 11:10:01'>\n",
      "<re.Match object; span=(4, 8), match=' $51'>\n",
      "<re.Match object; span=(15, 18), match='100'>\n"
     ]
    }
   ],
   "source": [
    "lookbehind1 = re.search('(?<=am).+', '2023-01-26 am 11:10:01')\n",
    "print(lookbehind1)\n",
    "\n",
    "lookbehind2 = re.search('(?<=:).+', 'USD: $51')\n",
    "print(lookbehind2)\n",
    "\n",
    "lookbehind4 = re.search(r'\\b(?<!\\$)\\d+\\b', 'I paid $30 for 100 apples.')\n",
    "print(lookbehind4)"
   ]
  },
  {
   "cell_type": "code",
   "execution_count": 21,
   "id": "d4e8081e-28c3-4356-a1a9-c5ae8d5690c7",
   "metadata": {},
   "outputs": [
    {
     "name": "stdout",
     "output_type": "stream",
     "text": [
      "<img src=\"../img/gifts/img1.jpg\"/> -> ['src'] 속성: ../img/gifts/img1.jpg\n",
      "<img src=\"../img/gifts/img2.jpg\"/> -> ['src'] 속성: ../img/gifts/img2.jpg\n",
      "<img src=\"../img/gifts/img3.jpg\"/> -> ['src'] 속성: ../img/gifts/img3.jpg\n",
      "<img src=\"../img/gifts/img4.jpg\"/> -> ['src'] 속성: ../img/gifts/img4.jpg\n",
      "<img src=\"../img/gifts/img6.jpg\"/> -> ['src'] 속성: ../img/gifts/img6.jpg\n"
     ]
    }
   ],
   "source": [
    "html = urlopen('http://www.pythonscraping.com/pages/page3.html')\n",
    "soup = BeautifulSoup(html, 'html.parser')\n",
    "\n",
    "img_tag = re.compile('/img/gifts/img.*.jpg')\n",
    "images = soup.find_all('img', {'src':img_tag})\n",
    "\n",
    "for image in images:\n",
    "    print(image, end=\" -> ['src'] 속성: \")\n",
    "    print(image['src'])"
   ]
  },
  {
   "cell_type": "code",
   "execution_count": 24,
   "id": "dbebb39c-8595-4d8d-adb2-0b3878ea95e6",
   "metadata": {},
   "outputs": [
    {
     "name": "stdout",
     "output_type": "stream",
     "text": [
      "the prince count:  7\n",
      "T|he prince count: 11\n"
     ]
    },
    {
     "name": "stderr",
     "output_type": "stream",
     "text": [
      "C:\\Users\\kdp\\AppData\\Local\\Temp\\ipykernel_10404\\340050177.py:4: DeprecationWarning: The 'text' argument to find()-type methods is deprecated. Use 'string' instead.\n",
      "  princeList = bs.find_all(text='the prince')\n",
      "C:\\Users\\kdp\\AppData\\Local\\Temp\\ipykernel_10404\\340050177.py:7: DeprecationWarning: The 'text' argument to find()-type methods is deprecated. Use 'string' instead.\n",
      "  prince_list = bs.find_all(text=re.compile('[T|t]{1}he prince'))\n"
     ]
    }
   ],
   "source": [
    "html = urlopen('http://www.pythonscraping.com/pages/warandpeace.html')\n",
    "bs = BeautifulSoup(html, 'html.parser')\n",
    "\n",
    "princeList = bs.find_all(text='the prince')\n",
    "print('the prince count: ', len(princeList))\n",
    "\n",
    "prince_list = bs.find_all(text=re.compile('[T|t]{1}he prince'))\n",
    "print('T|he prince count:', len(prince_list))"
   ]
  },
  {
   "cell_type": "code",
   "execution_count": null,
   "id": "9e262668-db07-4e7e-ae5a-420a26c10c58",
   "metadata": {},
   "outputs": [],
   "source": []
  }
 ],
 "metadata": {
  "kernelspec": {
   "display_name": "Python 3 (ipykernel)",
   "language": "python",
   "name": "python3"
  },
  "language_info": {
   "codemirror_mode": {
    "name": "ipython",
    "version": 3
   },
   "file_extension": ".py",
   "mimetype": "text/x-python",
   "name": "python",
   "nbconvert_exporter": "python",
   "pygments_lexer": "ipython3",
   "version": "3.8.18"
  }
 },
 "nbformat": 4,
 "nbformat_minor": 5
}
